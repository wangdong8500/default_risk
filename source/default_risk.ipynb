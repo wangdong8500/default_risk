{
 "cells": [
  {
   "cell_type": "code",
   "execution_count": 1,
   "metadata": {},
   "outputs": [],
   "source": [
    "import numpy as np\n",
    "import pandas as pd\n",
    "\n",
    "%matplotlib inline\n",
    "import matplotlib.pyplot as plt\n",
    "import seaborn\n",
    "\n",
    "pd.set_option('display.max_rows', 500)\n",
    "pd.set_option('display.max_columns', 200)"
   ]
  },
  {
   "cell_type": "code",
   "execution_count": 2,
   "metadata": {},
   "outputs": [],
   "source": [
    "dataDir = 'C:\\\\Users\\simin\\OneDrive\\Documents\\Kaggle\\Credit Default\\data/'"
   ]
  },
  {
   "cell_type": "markdown",
   "metadata": {},
   "source": [
    "# application data"
   ]
  },
  {
   "cell_type": "code",
   "execution_count": 4,
   "metadata": {},
   "outputs": [
    {
     "name": "stdout",
     "output_type": "stream",
     "text": [
      "Training data shape:  (307511, 122)\n",
      "Submission data shape:  (48744, 121)\n"
     ]
    }
   ],
   "source": [
    "# training data\n",
    "app = pd.read_csv( dataDir + 'application_train.csv' )\n",
    "print('Training data shape: ', app.shape)\n",
    "\n",
    "# testing data (no lable)\n",
    "app_submission = pd.read_csv( dataDir + 'application_test.csv' )\n",
    "print('Submission data shape: ', app_submission.shape)"
   ]
  },
  {
   "cell_type": "markdown",
   "metadata": {},
   "source": [
    "### Explotory Data Analysis"
   ]
  },
  {
   "cell_type": "code",
   "execution_count": 5,
   "metadata": {},
   "outputs": [
    {
     "data": {
      "text/plain": [
       "<matplotlib.axes._subplots.AxesSubplot at 0x1feb329c080>"
      ]
     },
     "execution_count": 5,
     "metadata": {},
     "output_type": "execute_result"
    },
    {
     "data": {
      "image/png": "[encoded data removed]",
      "text/plain": [
       "<Figure size 432x288 with 1 Axes>"
      ]
     },
     "metadata": {},
     "output_type": "display_data"
    }
   ],
   "source": [
    "# Target data is unbalanced\n",
    "app['TARGET'].astype(int).plot.hist()"
   ]
  },
  {
   "cell_type": "markdown",
   "metadata": {},
   "source": [
    "### Missing value explotory"
   ]
  },
  {
   "cell_type": "code",
   "execution_count": 6,
   "metadata": {},
   "outputs": [
    {
     "name": "stdout",
     "output_type": "stream",
     "text": [
      "There are 67 columns with missing value\n"
     ]
    }
   ],
   "source": [
    "mis_val = app.isnull().sum()\n",
    "mis_val_pct = mis_val *100 / len(app)\n",
    "\n",
    "mis_val_table = pd.concat([mis_val, mis_val_pct], axis = 1)\n",
    "\n",
    "mis_val_table_ren_columns = mis_val_table.rename(\n",
    "    columns = {0 : 'Missing Values', 1 : '% of Total Values'})\n",
    "\n",
    "mis_val_table_ren_columns = mis_val_table_ren_columns.sort_values(\n",
    "    by=['% of Total Values'], ascending=False)\n",
    "\n",
    "mis_val_table_ren_columns = mis_val_table_ren_columns[mis_val_table_ren_columns['% of Total Values']!=0] \n",
    "print(\"There are %d columns with missing value\"% len(mis_val_table_ren_columns))"
   ]
  },
  {
   "cell_type": "markdown",
   "metadata": {},
   "source": [
    "### Label Encoding and One-Hot Encoding"
   ]
  },
  {
   "cell_type": "code",
   "execution_count": 7,
   "metadata": {},
   "outputs": [
    {
     "name": "stdout",
     "output_type": "stream",
     "text": [
      "3 columns were label encoded.\n"
     ]
    }
   ],
   "source": [
    "from sklearn.preprocessing import LabelEncoder\n",
    "\n",
    "le = LabelEncoder()\n",
    "le_count = 0\n",
    "\n",
    "for col in app:\n",
    "    if app[col].dtype == 'object':\n",
    "        if len(list(app[col].unique())) <= 2:\n",
    "            le.fit(app[col])\n",
    "            \n",
    "            app[col] = le.transform(app[col])\n",
    "            app_submission[col] = le.transform(app_submission[col])\n",
    "            \n",
    "            le_count += 1\n",
    "            \n",
    "print(\"%d columns were label encoded.\"%le_count)"
   ]
  },
  {
   "cell_type": "code",
   "execution_count": 8,
   "metadata": {},
   "outputs": [
    {
     "name": "stdout",
     "output_type": "stream",
     "text": [
      "Training Features shape:  (307511, 243)\n",
      "Submission Features shape:  (48744, 239)\n"
     ]
    }
   ],
   "source": [
    "# one-hot encoding of categorical variables\n",
    "app = pd.get_dummies(app)\n",
    "app_submission = pd.get_dummies(app_submission)\n",
    "\n",
    "print('Training Features shape: ', app.shape)\n",
    "print('Submission Features shape: ', app_submission.shape)"
   ]
  },
  {
   "cell_type": "markdown",
   "metadata": {},
   "source": [
    "### Aligning Training and Testing Data (Training and Testing shapes are different)"
   ]
  },
  {
   "cell_type": "code",
   "execution_count": 9,
   "metadata": {},
   "outputs": [
    {
     "name": "stdout",
     "output_type": "stream",
     "text": [
      "Training Features shape:  (307511, 239)\n",
      "Submission Features shape:  (48744, 239)\n"
     ]
    }
   ],
   "source": [
    "y = app['TARGET']\n",
    "\n",
    "# Align the training and testing data, keep only columns present in both dataframes\n",
    "app, app_submission = app.align(app_submission, join = 'inner', axis = 1)\n",
    "\n",
    "print('Training Features shape: ', app.shape)\n",
    "print('Submission Features shape: ', app_submission.shape)"
   ]
  },
  {
   "cell_type": "code",
   "execution_count": 10,
   "metadata": {
    "scrolled": true
   },
   "outputs": [
    {
     "data": {
      "text/plain": [
       "Text(0.5,0,'Days Employment')"
      ]
     },
     "execution_count": 10,
     "metadata": {},
     "output_type": "execute_result"
    },
    {
     "data": {
      "image/png": "[encoded data removed]",
      "text/plain": [
       "<Figure size 432x288 with 1 Axes>"
      ]
     },
     "metadata": {},
     "output_type": "display_data"
    }
   ],
   "source": [
    "app['DAYS_EMPLOYED'].hist()\n",
    "plt.xlabel('Days Employment')"
   ]
  },
  {
   "cell_type": "code",
   "execution_count": 11,
   "metadata": {},
   "outputs": [
    {
     "data": {
      "text/plain": [
       "Text(0.5,0,'Days Employment')"
      ]
     },
     "execution_count": 11,
     "metadata": {},
     "output_type": "execute_result"
    },
    {
     "data": {
      "image/png": "[encoded data removed]",
      "text/plain": [
       "<Figure size 432x288 with 1 Axes>"
      ]
     },
     "metadata": {},
     "output_type": "display_data"
    }
   ],
   "source": [
    "# This looks like unreasonable\n",
    "\n",
    "# Replace the anomalous values with nan\n",
    "app['DAYS_EMPLOYED'].replace({365243: np.nan}, inplace = True)\n",
    "app['DAYS_EMPLOYED'].hist()\n",
    "plt.xlabel('Days Employment')"
   ]
  },
  {
   "cell_type": "code",
   "execution_count": 12,
   "metadata": {},
   "outputs": [],
   "source": [
    "# Do the samething to the testing data\n",
    "app_submission[\"DAYS_EMPLOYED\"].replace({365243: np.nan}, inplace = True)"
   ]
  },
  {
   "cell_type": "markdown",
   "metadata": {},
   "source": [
    "### Polynomial features"
   ]
  },
  {
   "cell_type": "code",
   "execution_count": 15,
   "metadata": {},
   "outputs": [
    {
     "name": "stdout",
     "output_type": "stream",
     "text": [
      "Training data with polynomial features shape:  (307511, 274)\n",
      "Submission data with polynomial features shape:   (48744, 274)\n"
     ]
    }
   ],
   "source": [
    "# Make a new dataframe for polynomial features\n",
    "poly_features = app[['EXT_SOURCE_1', 'EXT_SOURCE_2', 'EXT_SOURCE_3', 'DAYS_BIRTH']]\n",
    "poly_features_submission = app_submission[['EXT_SOURCE_1', 'EXT_SOURCE_2', 'EXT_SOURCE_3', 'DAYS_BIRTH']]\n",
    "\n",
    "from sklearn.preprocessing import Imputer\n",
    "ip = Imputer(strategy='median')\n",
    "\n",
    "poly_target = y\n",
    "\n",
    "poly_features = ip.fit_transform(poly_features)\n",
    "poly_features_submission = ip.fit_transform(poly_features_submission)\n",
    "\n",
    "from sklearn.preprocessing import PolynomialFeatures\n",
    "\n",
    "poly_transformer = PolynomialFeatures(degree = 3)\n",
    "\n",
    "poly_transformer.fit(poly_features)\n",
    "\n",
    "poly_features = poly_transformer.transform(poly_features)\n",
    "poly_features_submission = poly_transformer.transform(poly_features_submission)\n",
    "\n",
    "# Create a dataframe of the features \n",
    "poly_features = pd.DataFrame(poly_features, \n",
    "                             columns = poly_transformer.get_feature_names(\n",
    "                                 ['EXT_SOURCE_1', 'EXT_SOURCE_2', 'EXT_SOURCE_3', 'DAYS_BIRTH']))\n",
    "\n",
    "poly_features['TARGET'] = poly_target\n",
    "\n",
    "poly_features_submission = pd.DataFrame(poly_features_submission, \n",
    "                             columns = poly_transformer.get_feature_names(\n",
    "                                 ['EXT_SOURCE_1', 'EXT_SOURCE_2', 'EXT_SOURCE_3', 'DAYS_BIRTH']))\n",
    "\n",
    "poly_features['SK_ID_CURR'] = app['SK_ID_CURR']\n",
    "poly_features_submission['SK_ID_CURR'] = app_submission['SK_ID_CURR']\n",
    "\n",
    "app_poly = app.merge(poly_features, on = 'SK_ID_CURR', how = 'left')\n",
    "app_submission_poly = app_submission.merge(poly_features_submission, on = 'SK_ID_CURR', how = 'left')\n",
    "\n",
    "# Align the dataframes\n",
    "app_poly, app_submission_poly = app_poly.align(app_submission_poly, join = 'inner', axis = 1)\n",
    "\n",
    "# Print out the new shapes\n",
    "print('Training data with polynomial features shape: ', app_poly.shape)\n",
    "print('Submission data with polynomial features shape:  ', app_submission_poly.shape)"
   ]
  },
  {
   "cell_type": "markdown",
   "metadata": {},
   "source": [
    "### Domain Knowledge"
   ]
  },
  {
   "cell_type": "code",
   "execution_count": 16,
   "metadata": {},
   "outputs": [],
   "source": [
    "app_domain = app.copy()\n",
    "app_submission_domain = app_submission.copy()\n",
    "\n",
    "app_domain['CREDIT_INCOME_PERCENT'] = app_domain['AMT_CREDIT'] / app_domain['AMT_INCOME_TOTAL']\n",
    "app_domain['ANNUITY_INCOME_PERCENT'] = app_domain['AMT_ANNUITY'] / app_domain['AMT_INCOME_TOTAL']\n",
    "app_domain['CREDIT_TERM'] = app_domain['AMT_ANNUITY'] / app_domain['AMT_CREDIT']\n",
    "app_domain['DAYS_EMPLOYED_PERCENT'] = app_domain['DAYS_EMPLOYED'] / app_domain['DAYS_BIRTH']\n",
    "\n",
    "app_submission_domain['CREDIT_INCOME_PERCENT'] = app_submission_domain['AMT_CREDIT'] / app_submission_domain['AMT_INCOME_TOTAL']\n",
    "app_submission_domain['ANNUITY_INCOME_PERCENT'] = app_submission_domain['AMT_ANNUITY'] / app_submission_domain['AMT_INCOME_TOTAL']\n",
    "app_submission_domain['CREDIT_TERM'] = app_submission_domain['AMT_ANNUITY'] / app_submission_domain['AMT_CREDIT']\n",
    "app_submission_domain['DAYS_EMPLOYED_PERCENT'] = app_submission_domain['DAYS_EMPLOYED'] / app_submission_domain['DAYS_BIRTH']"
   ]
  },
  {
   "cell_type": "markdown",
   "metadata": {},
   "source": [
    "### Data Preprocessing"
   ]
  },
  {
   "cell_type": "code",
   "execution_count": 17,
   "metadata": {
    "scrolled": false
   },
   "outputs": [
    {
     "name": "stdout",
     "output_type": "stream",
     "text": [
      "Training data shape:  (307511, 238)\n",
      "Training label shape:  (307511,)\n",
      "Submission data shape:  (48744, 238)\n"
     ]
    }
   ],
   "source": [
    "from sklearn.preprocessing import MinMaxScaler, Imputer\n",
    "\n",
    "# Drop the target from the training data\n",
    "if 'TARGET' in app:\n",
    "    X = app.drop(columns = ['TARGET'])\n",
    "else:\n",
    "    X = app.copy()\n",
    "    \n",
    "# Label data\n",
    "Y = y.values\n",
    "\n",
    "# Copy of the testing data\n",
    "X_submission = app_submission.copy()\n",
    "\n",
    "X = X.drop('SK_ID_CURR', axis = 1)\n",
    "X_submission = X_submission.drop('SK_ID_CURR', axis = 1)\n",
    "    \n",
    "# Feature names\n",
    "features = list(X.columns)\n",
    "\n",
    "# Median imputation of missing values\n",
    "imputer = Imputer(strategy = 'median')\n",
    "\n",
    "# Scale each feature to 0-1\n",
    "scaler = MinMaxScaler(feature_range = (0, 1))\n",
    "\n",
    "# Fit on the training data and transform both training and testing data\n",
    "imputer.fit(X)\n",
    "X = imputer.transform(X)\n",
    "X_submission = imputer.transform(X_submission)\n",
    "\n",
    "# Repeat with the scaler\n",
    "scaler.fit(X)\n",
    "X = scaler.transform(X)\n",
    "X_submission = scaler.transform(X_submission)\n",
    "\n",
    "print('Training data shape: ', X.shape)\n",
    "print('Training label shape: ', Y.shape)\n",
    "print('Submission data shape: ', X_submission.shape)"
   ]
  },
  {
   "cell_type": "code",
   "execution_count": 18,
   "metadata": {},
   "outputs": [],
   "source": [
    "from sklearn.model_selection import train_test_split\n",
    "\n",
    "X_train, X_test, y_train, y_test = train_test_split(X, Y, test_size=0.33, random_state=42)"
   ]
  },
  {
   "cell_type": "code",
   "execution_count": 20,
   "metadata": {},
   "outputs": [
    {
     "name": "stderr",
     "output_type": "stream",
     "text": [
      "C:\\Users\\simin\\AppData\\Local\\Continuum\\anaconda3\\lib\\site-packages\\sklearn\\cross_validation.py:41: DeprecationWarning: This module was deprecated in version 0.18 in favor of the model_selection module into which all the refactored classes and functions are moved. Also note that the interface of the new CV iterators are different from that of this module. This module will be removed in 0.20.\n",
      "  \"This module will be removed in 0.20.\", DeprecationWarning)\n"
     ]
    }
   ],
   "source": [
    "import xgboost as xgb\n",
    "gbm = xgb.XGBClassifier(max_depth=3, n_estimators=300, learning_rate=0.05).fit(X_train, y_train)\n",
    "predictions = gbm.predict_proba(X_test)"
   ]
  },
  {
   "cell_type": "code",
   "execution_count": 21,
   "metadata": {},
   "outputs": [
    {
     "name": "stderr",
     "output_type": "stream",
     "text": [
      "No handles with labels found to put in legend.\n"
     ]
    },
    {
     "data": {
      "image/png": "[encoded data removed]",
      "text/plain": [
       "<Figure size 432x288 with 1 Axes>"
      ]
     },
     "metadata": {},
     "output_type": "display_data"
    }
   ],
   "source": [
    "from sklearn.metrics import accuracy_score\n",
    "from sklearn.metrics import roc_curve, roc_auc_score\n",
    "\n",
    "fpr, tpr, thresholds = roc_curve(y_test, predictions[:,1], pos_label=1)\n",
    "\n",
    "plt.figure()\n",
    "plt.plot([0, 1], [0, 1], 'k--')\n",
    "plt.plot(fpr, tpr)\n",
    "\n",
    "plt.xlabel('False positive rate')\n",
    "plt.ylabel('True positive rate')\n",
    "plt.title('ROC curve')\n",
    "plt.legend(loc='best')\n",
    "plt.show()"
   ]
  },
  {
   "cell_type": "code",
   "execution_count": 23,
   "metadata": {},
   "outputs": [
    {
     "name": "stdout",
     "output_type": "stream",
     "text": [
      "0.7553929303579122\n"
     ]
    }
   ],
   "source": [
    "print(roc_auc_score(y_test, predictions[:,1]))"
   ]
  },
  {
   "cell_type": "code",
   "execution_count": null,
   "metadata": {},
   "outputs": [],
   "source": []
  },
  {
   "cell_type": "code",
   "execution_count": null,
   "metadata": {},
   "outputs": [],
   "source": []
  },
  {
   "cell_type": "code",
   "execution_count": null,
   "metadata": {},
   "outputs": [],
   "source": []
  },
  {
   "cell_type": "code",
   "execution_count": null,
   "metadata": {},
   "outputs": [],
   "source": []
  },
  {
   "cell_type": "code",
   "execution_count": null,
   "metadata": {},
   "outputs": [],
   "source": []
  },
  {
   "cell_type": "code",
   "execution_count": 10,
   "metadata": {},
   "outputs": [],
   "source": [
    "# one hot encoding for categorical variables\n",
    "one_hot_encoded_X_train = pd.get_dummies(X_train)\n",
    "one_hot_encoded_X_test = pd.get_dummies(X_test)\n",
    "encoded_X_train, encoded_X_test = one_hot_encoded_X_train.align(one_hot_encoded_X_test,\n",
    "                                                                    join='left', \n",
    "                                                                    axis=1)"
   ]
  },
  {
   "cell_type": "code",
   "execution_count": 12,
   "metadata": {},
   "outputs": [
    {
     "name": "stdout",
     "output_type": "stream",
     "text": [
      "Index(['SK_ID_CURR', 'CNT_CHILDREN', 'AMT_INCOME_TOTAL', 'AMT_CREDIT',\n",
      "       'AMT_ANNUITY', 'AMT_GOODS_PRICE', 'REGION_POPULATION_RELATIVE',\n",
      "       'DAYS_BIRTH', 'DAYS_EMPLOYED', 'DAYS_REGISTRATION',\n",
      "       ...\n",
      "       'HOUSETYPE_MODE_terraced house', 'WALLSMATERIAL_MODE_Block',\n",
      "       'WALLSMATERIAL_MODE_Mixed', 'WALLSMATERIAL_MODE_Monolithic',\n",
      "       'WALLSMATERIAL_MODE_Others', 'WALLSMATERIAL_MODE_Panel',\n",
      "       'WALLSMATERIAL_MODE_Stone, brick', 'WALLSMATERIAL_MODE_Wooden',\n",
      "       'EMERGENCYSTATE_MODE_No', 'EMERGENCYSTATE_MODE_Yes'],\n",
      "      dtype='object', length=245)\n"
     ]
    }
   ],
   "source": [
    "# check the columns after one hot encoding\n",
    "print(encoded_X_train.columns)"
   ]
  },
  {
   "cell_type": "code",
   "execution_count": 14,
   "metadata": {},
   "outputs": [
    {
     "name": "stdout",
     "output_type": "stream",
     "text": [
      "(276759, 121)\n",
      "(276759, 245)\n"
     ]
    }
   ],
   "source": [
    "print(X_train.shape)\n",
    "print(encoded_X_train.shape)"
   ]
  },
  {
   "cell_type": "code",
   "execution_count": 15,
   "metadata": {},
   "outputs": [
    {
     "name": "stdout",
     "output_type": "stream",
     "text": [
      "SK_ID_CURR                      0.000000\n",
      "NAME_CONTRACT_TYPE              0.000000\n",
      "CODE_GENDER                     0.000000\n",
      "FLAG_OWN_CAR                    0.000000\n",
      "FLAG_OWN_REALTY                 0.000000\n",
      "CNT_CHILDREN                    0.000000\n",
      "AMT_INCOME_TOTAL                0.000000\n",
      "AMT_CREDIT                      0.000000\n",
      "AMT_ANNUITY                     0.000036\n",
      "AMT_GOODS_PRICE                 0.000896\n",
      "NAME_TYPE_SUITE                 0.004220\n",
      "NAME_INCOME_TYPE                0.000000\n",
      "NAME_EDUCATION_TYPE             0.000000\n",
      "NAME_FAMILY_STATUS              0.000000\n",
      "NAME_HOUSING_TYPE               0.000000\n",
      "REGION_POPULATION_RELATIVE      0.000000\n",
      "DAYS_BIRTH                      0.000000\n",
      "DAYS_EMPLOYED                   0.000000\n",
      "DAYS_REGISTRATION               0.000000\n",
      "DAYS_ID_PUBLISH                 0.000000\n",
      "OWN_CAR_AGE                     0.659736\n",
      "FLAG_MOBIL                      0.000000\n",
      "FLAG_EMP_PHONE                  0.000000\n",
      "FLAG_WORK_PHONE                 0.000000\n",
      "FLAG_CONT_MOBILE                0.000000\n",
      "FLAG_PHONE                      0.000000\n",
      "FLAG_EMAIL                      0.000000\n",
      "OCCUPATION_TYPE                 0.313435\n",
      "CNT_FAM_MEMBERS                 0.000004\n",
      "REGION_RATING_CLIENT            0.000000\n",
      "REGION_RATING_CLIENT_W_CITY     0.000000\n",
      "WEEKDAY_APPR_PROCESS_START      0.000000\n",
      "HOUR_APPR_PROCESS_START         0.000000\n",
      "REG_REGION_NOT_LIVE_REGION      0.000000\n",
      "REG_REGION_NOT_WORK_REGION      0.000000\n",
      "LIVE_REGION_NOT_WORK_REGION     0.000000\n",
      "REG_CITY_NOT_LIVE_CITY          0.000000\n",
      "REG_CITY_NOT_WORK_CITY          0.000000\n",
      "LIVE_CITY_NOT_WORK_CITY         0.000000\n",
      "ORGANIZATION_TYPE               0.000000\n",
      "EXT_SOURCE_1                    0.563281\n",
      "EXT_SOURCE_2                    0.002150\n",
      "EXT_SOURCE_3                    0.198212\n",
      "APARTMENTS_AVG                  0.507507\n",
      "BASEMENTAREA_AVG                0.585152\n",
      "YEARS_BEGINEXPLUATATION_AVG     0.487681\n",
      "YEARS_BUILD_AVG                 0.665402\n",
      "COMMONAREA_AVG                  0.699034\n",
      "ELEVATORS_AVG                   0.533027\n",
      "ENTRANCES_AVG                   0.503301\n",
      "FLOORSMAX_AVG                   0.497458\n",
      "FLOORSMIN_AVG                   0.678746\n",
      "LANDAREA_AVG                    0.593896\n",
      "LIVINGAPARTMENTS_AVG            0.683866\n",
      "LIVINGAREA_AVG                  0.501910\n",
      "NONLIVINGAPARTMENTS_AVG         0.694673\n",
      "NONLIVINGAREA_AVG               0.551982\n",
      "APARTMENTS_MODE                 0.507507\n",
      "BASEMENTAREA_MODE               0.585152\n",
      "YEARS_BEGINEXPLUATATION_MODE    0.487681\n",
      "YEARS_BUILD_MODE                0.665402\n",
      "COMMONAREA_MODE                 0.699034\n",
      "ELEVATORS_MODE                  0.533027\n",
      "ENTRANCES_MODE                  0.503301\n",
      "FLOORSMAX_MODE                  0.497458\n",
      "FLOORSMIN_MODE                  0.678746\n",
      "LANDAREA_MODE                   0.593896\n",
      "LIVINGAPARTMENTS_MODE           0.683866\n",
      "LIVINGAREA_MODE                 0.501910\n",
      "NONLIVINGAPARTMENTS_MODE        0.694673\n",
      "NONLIVINGAREA_MODE              0.551982\n",
      "APARTMENTS_MEDI                 0.507507\n",
      "BASEMENTAREA_MEDI               0.585152\n",
      "YEARS_BEGINEXPLUATATION_MEDI    0.487681\n",
      "YEARS_BUILD_MEDI                0.665402\n",
      "COMMONAREA_MEDI                 0.699034\n",
      "ELEVATORS_MEDI                  0.533027\n",
      "ENTRANCES_MEDI                  0.503301\n",
      "FLOORSMAX_MEDI                  0.497458\n",
      "FLOORSMIN_MEDI                  0.678746\n",
      "LANDAREA_MEDI                   0.593896\n",
      "LIVINGAPARTMENTS_MEDI           0.683866\n",
      "LIVINGAREA_MEDI                 0.501910\n",
      "NONLIVINGAPARTMENTS_MEDI        0.694673\n",
      "NONLIVINGAREA_MEDI              0.551982\n",
      "FONDKAPREMONT_MODE              0.684202\n",
      "HOUSETYPE_MODE                  0.501700\n",
      "TOTALAREA_MODE                  0.482553\n",
      "WALLSMATERIAL_MODE              0.508334\n",
      "EMERGENCYSTATE_MODE             0.473903\n",
      "OBS_30_CNT_SOCIAL_CIRCLE        0.003299\n",
      "DEF_30_CNT_SOCIAL_CIRCLE        0.003299\n",
      "OBS_60_CNT_SOCIAL_CIRCLE        0.003299\n",
      "DEF_60_CNT_SOCIAL_CIRCLE        0.003299\n",
      "DAYS_LAST_PHONE_CHANGE          0.000004\n",
      "FLAG_DOCUMENT_2                 0.000000\n",
      "FLAG_DOCUMENT_3                 0.000000\n",
      "FLAG_DOCUMENT_4                 0.000000\n",
      "FLAG_DOCUMENT_5                 0.000000\n",
      "FLAG_DOCUMENT_6                 0.000000\n",
      "FLAG_DOCUMENT_7                 0.000000\n",
      "FLAG_DOCUMENT_8                 0.000000\n",
      "FLAG_DOCUMENT_9                 0.000000\n",
      "FLAG_DOCUMENT_10                0.000000\n",
      "FLAG_DOCUMENT_11                0.000000\n",
      "FLAG_DOCUMENT_12                0.000000\n",
      "FLAG_DOCUMENT_13                0.000000\n",
      "FLAG_DOCUMENT_14                0.000000\n",
      "FLAG_DOCUMENT_15                0.000000\n",
      "FLAG_DOCUMENT_16                0.000000\n",
      "FLAG_DOCUMENT_17                0.000000\n",
      "FLAG_DOCUMENT_18                0.000000\n",
      "FLAG_DOCUMENT_19                0.000000\n",
      "FLAG_DOCUMENT_20                0.000000\n",
      "FLAG_DOCUMENT_21                0.000000\n",
      "AMT_REQ_CREDIT_BUREAU_HOUR      0.135013\n",
      "AMT_REQ_CREDIT_BUREAU_DAY       0.135013\n",
      "AMT_REQ_CREDIT_BUREAU_WEEK      0.135013\n",
      "AMT_REQ_CREDIT_BUREAU_MON       0.135013\n",
      "AMT_REQ_CREDIT_BUREAU_QRT       0.135013\n",
      "AMT_REQ_CREDIT_BUREAU_YEAR      0.135013\n",
      "dtype: float64\n",
      "0 0\n"
     ]
    }
   ],
   "source": [
    "# handle missiong values\n",
    "columns = X_train.columns\n",
    "missing_val_count_by_column = (X_train.isnull().sum())\n",
    "print(missing_val_count_by_column / float(X_train.shape[0]))\n",
    "# check if there is any missing y\n",
    "print(y_train.isnull().sum(), y_test.isnull().sum())"
   ]
  },
  {
   "cell_type": "code",
   "execution_count": 17,
   "metadata": {},
   "outputs": [],
   "source": [
    "# may need to handle each column with different strategy, but now I just impute using most frequent one\n",
    "from sklearn.preprocessing import Imputer\n",
    "my_imputer = Imputer(strategy = 'most_frequent')\n",
    "encoded_X_train_imputed = my_imputer.fit_transform(encoded_X_train)\n",
    "encoded_X_test_imputed = my_imputer.transform(encoded_X_test)\n"
   ]
  },
  {
   "cell_type": "code",
   "execution_count": 18,
   "metadata": {},
   "outputs": [
    {
     "name": "stderr",
     "output_type": "stream",
     "text": [
      "C:\\Users\\simin\\AppData\\Local\\Continuum\\anaconda3\\lib\\site-packages\\sklearn\\cross_validation.py:41: DeprecationWarning: This module was deprecated in version 0.18 in favor of the model_selection module into which all the refactored classes and functions are moved. Also note that the interface of the new CV iterators are different from that of this module. This module will be removed in 0.20.\n",
      "  \"This module will be removed in 0.20.\", DeprecationWarning)\n",
      "C:\\Users\\simin\\AppData\\Local\\Continuum\\anaconda3\\lib\\site-packages\\sklearn\\preprocessing\\label.py:151: DeprecationWarning: The truth value of an empty array is ambiguous. Returning False, but in future this will result in an error. Use `array.size > 0` to check that an array is not empty.\n",
      "  if diff:\n"
     ]
    }
   ],
   "source": [
    "import xgboost as xgb\n",
    "gbm = xgb.XGBClassifier(max_depth=3, n_estimators=300, learning_rate=0.05).fit(encoded_X_train_imputed, y_train)\n",
    "predictions = gbm.predict(encoded_X_test_imputed)"
   ]
  },
  {
   "cell_type": "code",
   "execution_count": 34,
   "metadata": {},
   "outputs": [],
   "source": [
    "pred_prob = gbm.predict_proba(encoded_X_test_imputed)"
   ]
  },
  {
   "cell_type": "code",
   "execution_count": 38,
   "metadata": {
    "scrolled": true
   },
   "outputs": [
    {
     "data": {
      "text/plain": [
       "array([[0.79522026, 0.20477973],\n",
       "       [0.9564121 , 0.04358793],\n",
       "       [0.84712785, 0.15287213],\n",
       "       ...,\n",
       "       [0.9844243 , 0.01557573],\n",
       "       [0.9559125 , 0.04408751],\n",
       "       [0.8820837 , 0.11791629]], dtype=float32)"
      ]
     },
     "execution_count": 38,
     "metadata": {},
     "output_type": "execute_result"
    }
   ],
   "source": [
    "pred_prob"
   ]
  },
  {
   "cell_type": "code",
   "execution_count": 39,
   "metadata": {},
   "outputs": [
    {
     "data": {
      "text/plain": [
       "array([0.20477973, 0.04358793, 0.15287213, ..., 0.01557573, 0.04408751,\n",
       "       0.11791629], dtype=float32)"
      ]
     },
     "execution_count": 39,
     "metadata": {},
     "output_type": "execute_result"
    }
   ],
   "source": [
    "pred_prob[:,1]"
   ]
  },
  {
   "cell_type": "code",
   "execution_count": 40,
   "metadata": {},
   "outputs": [],
   "source": [
    "from sklearn.metrics import accuracy_score\n",
    "from sklearn.metrics import roc_curve, roc_auc_score\n",
    "\n",
    "fpr, tpr, thresholds = roc_curve(y_test, pred_prob[:,1], pos_label=1)\n"
   ]
  },
  {
   "cell_type": "code",
   "execution_count": 41,
   "metadata": {},
   "outputs": [
    {
     "name": "stderr",
     "output_type": "stream",
     "text": [
      "No handles with labels found to put in legend.\n"
     ]
    },
    {
     "data": {
      "image/png": "[encoded data removed]",
      "text/plain": [
       "<Figure size 432x288 with 1 Axes>"
      ]
     },
     "metadata": {},
     "output_type": "display_data"
    }
   ],
   "source": [
    "%matplotlib inline\n",
    "import matplotlib.pyplot as plt\n",
    "\n",
    "plt.figure()\n",
    "plt.plot([0, 1], [0, 1], 'k--')\n",
    "plt.plot(fpr, tpr)\n",
    "\n",
    "plt.xlabel('False positive rate')\n",
    "plt.ylabel('True positive rate')\n",
    "plt.title('ROC curve')\n",
    "plt.legend(loc='best')\n",
    "plt.show()"
   ]
  },
  {
   "cell_type": "code",
   "execution_count": 45,
   "metadata": {},
   "outputs": [
    {
     "name": "stdout",
     "output_type": "stream",
     "text": [
      "0.7575828372663722\n"
     ]
    }
   ],
   "source": [
    "print(roc_auc_score(y_test, pred_prob[:,1]))"
   ]
  },
  {
   "cell_type": "markdown",
   "metadata": {},
   "source": [
    "# bureau_balance"
   ]
  },
  {
   "cell_type": "code",
   "execution_count": null,
   "metadata": {
    "collapsed": true
   },
   "outputs": [],
   "source": [
    "application_train = pd.read_csv( dataDir + 'application_train.csv' )"
   ]
  }
 ],
 "metadata": {
  "kernelspec": {
   "display_name": "Python 3",
   "language": "python",
   "name": "python3"
  },
  "language_info": {
   "codemirror_mode": {
    "name": "ipython",
    "version": 3
   },
   "file_extension": ".py",
   "mimetype": "text/x-python",
   "name": "python",
   "nbconvert_exporter": "python",
   "pygments_lexer": "ipython3",
   "version": "3.6.6"
  }
 },
 "nbformat": 4,
 "nbformat_minor": 2
}
