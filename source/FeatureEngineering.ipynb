{
 "cells": [
  {
   "cell_type": "code",
   "execution_count": 1,
   "metadata": {},
   "outputs": [
    {
     "name": "stdout",
     "output_type": "stream",
     "text": [
      "Data already existed.\n"
     ]
    }
   ],
   "source": [
    "import numpy as np\n",
    "import pandas as pd\n",
    "import gc\n",
    "\n",
    "import matplotlib.pyplot as plt\n",
    "import seaborn as sns\n",
    "import warnings\n",
    "warnings.simplefilter(action='ignore', category=FutureWarning)\n",
    "\n",
    "from load_data import load_data\n",
    "\n",
    "dataDir = 'C:\\\\Users\\simin\\OneDrive\\Documents\\Kaggle\\Credit Default\\data/'\n",
    "\n",
    "df = load_data(dataDir)"
   ]
  },
  {
   "cell_type": "code",
   "execution_count": 4,
   "metadata": {},
   "outputs": [],
   "source": [
    "missing = df.isnull().sum().sort_values(ascending=False)*100 / df.shape[0]"
   ]
  },
  {
   "cell_type": "code",
   "execution_count": 8,
   "metadata": {},
   "outputs": [
    {
     "data": {
      "text/plain": [
       "NEW_RATIO_BURO_AMT_CREDIT_SUM_OVERDUE_MAX     99.077336\n",
       "NEW_RATIO_BURO_AMT_CREDIT_SUM_OVERDUE_MEAN    99.077336\n",
       "NEW_RATIO_BURO_CREDIT_DAY_OVERDUE_MEAN        99.075652\n",
       "NEW_RATIO_BURO_CREDIT_DAY_OVERDUE_MAX         99.075652\n",
       "NEW_RATIO_BURO_CNT_CREDIT_PROLONG_SUM         97.840006\n",
       "NEW_RATIO_PREV_AMT_DOWN_PAYMENT_STD           96.518747\n",
       "NEW_RATIO_PREV_RATE_DOWN_PAYMENT_STD          96.511168\n",
       "NEW_RATIO_BURO_MONTHS_BALANCE_MAX_MAX         96.123520\n",
       "REFUSED_AMT_DOWN_PAYMENT_STD                  94.794401\n",
       "REFUSED_RATE_DOWN_PAYMENT_STD                 94.794401\n",
       "NEW_RATIO_PREV_RATE_DOWN_PAYMENT_MIN          92.516793\n",
       "NEW_RATIO_PREV_AMT_DOWN_PAYMENT_MIN           92.516793\n",
       "NEW_RATIO_PREV_AMT_DOWN_PAYMENT_MEAN          87.942209\n",
       "NEW_RATIO_PREV_AMT_DOWN_PAYMENT_MAX           87.942209\n",
       "NEW_RATIO_PREV_RATE_DOWN_PAYMENT_MAX          87.942209\n",
       "NEW_RATIO_PREV_RATE_DOWN_PAYMENT_MEAN         87.942209\n",
       "NEW_RATIO_BURO_AMT_CREDIT_MAX_OVERDUE_MEAN    87.030773\n",
       "NEW_RATIO_BURO_AMT_CREDIT_SUM_LIMIT_MEAN      86.856739\n",
       "NEW_RATIO_PREV_CNT_PAYMENT_STD                86.279337\n",
       "NEW_RATIO_PREV_AMT_ANNUITY_STD                86.085092\n",
       "NEW_RATIO_PREV_AMT_GOODS_PRICE_STD            86.075548\n",
       "NEW_RATIO_BURO_AMT_CREDIT_SUM_LIMIT_SUM       85.661233\n",
       "NEW_RATIO_PREV_APP_CREDIT_PERC_STD            85.587690\n",
       "REFUSED_RATE_DOWN_PAYMENT_MEAN                85.234287\n",
       "REFUSED_AMT_DOWN_PAYMENT_MEAN                 85.234287\n",
       "REFUSED_AMT_DOWN_PAYMENT_MAX                  85.234287\n",
       "REFUSED_RATE_DOWN_PAYMENT_MAX                 85.234287\n",
       "REFUSED_AMT_DOWN_PAYMENT_MIN                  85.234287\n",
       "REFUSED_RATE_DOWN_PAYMENT_MIN                 85.234287\n",
       "REFUSED_AMT_ANNUITY_STD                       84.380956\n",
       "                                                ...    \n",
       "ORGANIZATION_TYPE_Business Entity Type 2       0.000000\n",
       "ORGANIZATION_TYPE_Business Entity Type 1       0.000000\n",
       "ORGANIZATION_TYPE_Bank                         0.000000\n",
       "ORGANIZATION_TYPE_Agriculture                  0.000000\n",
       "ORGANIZATION_TYPE_Advertising                  0.000000\n",
       "OCCUPATION_TYPE_Waiters/barmen staff           0.000000\n",
       "OCCUPATION_TYPE_Security staff                 0.000000\n",
       "OCCUPATION_TYPE_Secretaries                    0.000000\n",
       "OCCUPATION_TYPE_Sales staff                    0.000000\n",
       "OCCUPATION_TYPE_Realty agents                  0.000000\n",
       "OCCUPATION_TYPE_Private service staff          0.000000\n",
       "OCCUPATION_TYPE_Medicine staff                 0.000000\n",
       "OCCUPATION_TYPE_Managers                       0.000000\n",
       "OCCUPATION_TYPE_Low-skill Laborers             0.000000\n",
       "OCCUPATION_TYPE_Laborers                       0.000000\n",
       "OCCUPATION_TYPE_IT staff                       0.000000\n",
       "OCCUPATION_TYPE_High skill tech staff          0.000000\n",
       "OCCUPATION_TYPE_HR staff                       0.000000\n",
       "OCCUPATION_TYPE_Drivers                        0.000000\n",
       "OCCUPATION_TYPE_Core staff                     0.000000\n",
       "OCCUPATION_TYPE_Cooking staff                  0.000000\n",
       "OCCUPATION_TYPE_Cleaning staff                 0.000000\n",
       "OCCUPATION_TYPE_Accountants                    0.000000\n",
       "NAME_TYPE_SUITE_Unaccompanied                  0.000000\n",
       "NAME_TYPE_SUITE_Spouse, partner                0.000000\n",
       "NAME_TYPE_SUITE_Other_B                        0.000000\n",
       "NAME_TYPE_SUITE_Other_A                        0.000000\n",
       "NAME_TYPE_SUITE_Group of people                0.000000\n",
       "NAME_TYPE_SUITE_Family                         0.000000\n",
       "index                                          0.000000\n",
       "Length: 914, dtype: float64"
      ]
     },
     "execution_count": 8,
     "metadata": {},
     "output_type": "execute_result"
    }
   ],
   "source": [
    "missing"
   ]
  },
  {
   "cell_type": "code",
   "execution_count": null,
   "metadata": {},
   "outputs": [],
   "source": []
  },
  {
   "cell_type": "code",
   "execution_count": null,
   "metadata": {},
   "outputs": [],
   "source": []
  }
 ],
 "metadata": {
  "kernelspec": {
   "display_name": "Python 3",
   "language": "python",
   "name": "python3"
  },
  "language_info": {
   "codemirror_mode": {
    "name": "ipython",
    "version": 3
   },
   "file_extension": ".py",
   "mimetype": "text/x-python",
   "name": "python",
   "nbconvert_exporter": "python",
   "pygments_lexer": "ipython3",
   "version": "3.6.6"
  }
 },
 "nbformat": 4,
 "nbformat_minor": 2
}
